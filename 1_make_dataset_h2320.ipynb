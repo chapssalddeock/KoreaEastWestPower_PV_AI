{
 "cells": [
  {
   "cell_type": "code",
   "execution_count": null,
   "id": "5ca59341-a028-4e41-9396-d85dfa53016e",
   "metadata": {
    "tags": []
   },
   "outputs": [],
   "source": [
    "!pip install -r requirements.txt"
   ]
  },
  {
   "cell_type": "code",
   "execution_count": 1,
   "id": "7dc941a3-5765-44b8-acc5-d53a7ef7a7fe",
   "metadata": {},
   "outputs": [],
   "source": [
    "import pandas as pd\n",
    "import numpy as np\n",
    "import matplotlib.pyplot as plt\n",
    "from glob import glob\n",
    "import warnings\n",
    "warnings.filterwarnings('ignore')"
   ]
  },
  {
   "cell_type": "markdown",
   "id": "e6e4c1fe-027e-4380-9003-d648522ecb28",
   "metadata": {},
   "source": [
    "## 기상청 예보 데이터 (3시간 간격, 6시간 간격) 전처리\n",
    "\n",
    "* 당진태양광 : dangjin\n",
    "* 당진수상태양광 : dangjin_floating\n",
    "* 당진자재창고태양광 : dangjin_warehouse\n",
    "* 울산태양광 : ulsan\n",
    "\n",
    "기상청 데이터 경로 및 파일 이름 : [개인정보 모자이크]\n",
    "* 당진 데이터 폴더 /dangjin\n",
    "* 울산 데이터 폴더 /ulsan"
   ]
  },
  {
   "cell_type": "markdown",
   "id": "f58ec588-3323-4dc1-84d1-f429699148ea",
   "metadata": {},
   "source": [
    "#### <span style=\"color:red\"> <b>해당 코드는 API 사용이 포함되어 있습니다.</b> </span> \n",
    "따라서 'API 키 값을 넣어주세요' 라는 문구를 포함하였습니다. <br>\n",
    "dacon 측의 요청대로 API 키 값을 가린 부분입니다. <br>\n",
    "코드 사용 시 반드시 API 키 값 첨부 후 사용 바랍니다."
   ]
  },
  {
   "cell_type": "code",
   "execution_count": 3,
   "id": "dcf527fc-7a9a-4fd8-8cc9-767e10257072",
   "metadata": {},
   "outputs": [
    {
     "data": {
      "text/html": [
       "<div>\n",
       "<style scoped>\n",
       "    .dataframe tbody tr th:only-of-type {\n",
       "        vertical-align: middle;\n",
       "    }\n",
       "\n",
       "    .dataframe tbody tr th {\n",
       "        vertical-align: top;\n",
       "    }\n",
       "\n",
       "    .dataframe thead th {\n",
       "        text-align: right;\n",
       "    }\n",
       "</style>\n",
       "<table border=\"1\" class=\"dataframe\">\n",
       "  <thead>\n",
       "    <tr style=\"text-align: right;\">\n",
       "      <th></th>\n",
       "      <th>Unnamed: 0</th>\n",
       "      <th>h20_case1</th>\n",
       "      <th>h20_case2</th>\n",
       "      <th>h2320_case1</th>\n",
       "      <th>h2320_case2</th>\n",
       "    </tr>\n",
       "  </thead>\n",
       "  <tbody>\n",
       "    <tr>\n",
       "      <th>0</th>\n",
       "      <td>dangjin_floating</td>\n",
       "      <td>7.204600</td>\n",
       "      <td>6.988400</td>\n",
       "      <td>7.200100</td>\n",
       "      <td>6.91840</td>\n",
       "    </tr>\n",
       "    <tr>\n",
       "      <th>1</th>\n",
       "      <td>dangjin_warehouse</td>\n",
       "      <td>8.641800</td>\n",
       "      <td>8.544400</td>\n",
       "      <td>8.423200</td>\n",
       "      <td>8.34510</td>\n",
       "    </tr>\n",
       "    <tr>\n",
       "      <th>2</th>\n",
       "      <td>dangjin</td>\n",
       "      <td>9.065800</td>\n",
       "      <td>8.984900</td>\n",
       "      <td>9.092300</td>\n",
       "      <td>8.79240</td>\n",
       "    </tr>\n",
       "    <tr>\n",
       "      <th>3</th>\n",
       "      <td>ulsan</td>\n",
       "      <td>7.179900</td>\n",
       "      <td>6.846000</td>\n",
       "      <td>6.934100</td>\n",
       "      <td>6.98590</td>\n",
       "    </tr>\n",
       "    <tr>\n",
       "      <th>4</th>\n",
       "      <td>average_nmae</td>\n",
       "      <td>8.023025</td>\n",
       "      <td>7.840925</td>\n",
       "      <td>7.912425</td>\n",
       "      <td>7.76045</td>\n",
       "    </tr>\n",
       "  </tbody>\n",
       "</table>\n",
       "</div>"
      ],
      "text/plain": [
       "          Unnamed: 0  h20_case1  h20_case2  h2320_case1  h2320_case2\n",
       "0   dangjin_floating   7.204600   6.988400     7.200100      6.91840\n",
       "1  dangjin_warehouse   8.641800   8.544400     8.423200      8.34510\n",
       "2            dangjin   9.065800   8.984900     9.092300      8.79240\n",
       "3              ulsan   7.179900   6.846000     6.934100      6.98590\n",
       "4       average_nmae   8.023025   7.840925     7.912425      7.76045"
      ]
     },
     "execution_count": 3,
     "metadata": {},
     "output_type": "execute_result"
    }
   ],
   "source": [
    "nsr = pd.read_csv('./new_data/nmae_score_record.csv')\n",
    "nsr"
   ]
  },
  {
   "cell_type": "markdown",
   "id": "2c1f02c2-80da-4194-a14d-285841347dd9",
   "metadata": {},
   "source": [
    "#### <span style=\"color:blue\">* 위 코드는 h2320 데이터셋을 만들어 사용하는 이유입니다. </span> \n",
    "h2320은 23시 예보 데이터들을 사용합니다. <br>\n",
    "이름이 h2320인 이유는 00시의 데이터는 위 범위를 사용하면 채울 수 없어, <br>\n",
    "해당부분만 20시의 예보 데이터를 사용하기 때문입니다. <br>\n",
    "\n",
    "이러한 데이터셋을 만들어 모델을 학습시키면 API 기상예보에서 23시의 기상예보를 사용할 수 있습니다. <br>\n",
    "또한 20시의 예보만을 사용하는 것보다 평균적으로 nmae score가 높은 것을 확인 할 수 있습니다."
   ]
  },
  {
   "cell_type": "markdown",
   "id": "02c7fabd-eae7-47dc-9afe-2e614034609e",
   "metadata": {},
   "source": [
    "<H3>당진지역 3시간 간격 예보 데이터 전처리"
   ]
  },
  {
   "cell_type": "code",
   "execution_count": null,
   "id": "22614c80-8947-46b5-afa1-9c995e9a9331",
   "metadata": {},
   "outputs": [],
   "source": [
    "def preprocessing_3h(path_list, y):\n",
    "    #데이터 불러오기\n",
    "    #'forecast', 'Temperature','Precipitation','Snow','PrecipitationForm','PrecipitationProb', 'Humidity','MaxTemp','MinTemp', 'WindSpeed', 'WindDirection', 'Cloud'\n",
    "    data_year_temperature = pd.read_csv(path_list[0])\n",
    "    data_year_precipitation = pd.read_csv(path_list[1])\n",
    "    data_year_snow = pd.read_csv(path_list[2])\n",
    "    data_year_precipitationform = pd.read_csv(path_list[3])\n",
    "    data_year_precipitationprob = pd.read_csv(path_list[4])\n",
    "    data_year_humidity = pd.read_csv(path_list[5])\n",
    "    data_year_maxtemp = pd.read_csv(path_list[6])\n",
    "    data_year_mintemp = pd.read_csv(path_list[7]) \n",
    "    data_year_windspeed = pd.read_csv(path_list[8])\n",
    "    data_year_winddirection = pd.read_csv(path_list[9])\n",
    "    data_year_cloud = pd.read_csv(path_list[10])\n",
    "\n",
    "    # 데이터 결합 (3시간)\n",
    "    data_year = data_year_humidity[[' format: day', 'hour', 'forecast']]\n",
    "    data_year['Temperature'] = data_year_temperature[data_year_temperature.columns[-1]] #3시간 기온 \n",
    "    data_year['PrecipitationForm'] = data_year_precipitationform[data_year_precipitationform.columns[-1]] #강수형태\n",
    "    data_year['PrecipitationProb'] = data_year_precipitationprob[data_year_precipitationprob.columns[-1]] #강수확률\n",
    "    data_year['Humidity'] = data_year_humidity[data_year_humidity.columns[-1]]#3시간 습도\n",
    "    data_year['WindSpeed'] = data_year_windspeed[data_year_windspeed.columns[-1]]#3시간 풍속  \n",
    "    data_year['WindDirection'] = data_year_winddirection[data_year_winddirection.columns[-1]]#3시간 풍향\n",
    "    data_year['Cloud'] = data_year_cloud[data_year_cloud.columns[-1]]\n",
    "\n",
    "    # 월 구분 행 추출\n",
    "    month_rows = [-1]\n",
    "    month_rows.extend(data_year[data_year['hour'].isna()].index)\n",
    "    month_rows.append(data_year.shape[0]+1)\n",
    "    \n",
    "    # 월별 데이터 분리\n",
    "    month_data = []\n",
    "    for i in range(len(month_rows)-1):\n",
    "        month_data.append(data_year.loc[month_rows[i]+1:month_rows[i+1]-1])\n",
    "     \n",
    "    # 예보 시간 생성 및 데이터 결합\n",
    "    data_fcst_concat = pd.DataFrame(columns=['Forecast time', 'forecast', 'Temperature','PrecipitationForm','PrecipitationProb,' 'Humidity', 'WindSpeed', 'WindDirection', 'Cloud'])\n",
    "    for i, df in enumerate(month_data):\n",
    "        month = i+3\n",
    "        year = y\n",
    "        if month == 13:\n",
    "            month = 1\n",
    "            year += 1\n",
    "        elif month == 14:\n",
    "            month = 2\n",
    "            year += 1\n",
    "\n",
    "        date = f'{year}-{month}-' + df[' format: day'].str.split(' ').str[-1] + ' ' + (df['hour'].astype(int)//100).astype(str) + ':00'\n",
    "        \n",
    "        # 시간단위 UTC => GMT\n",
    "        date = pd.to_datetime(date) + pd.DateOffset(hours=9)\n",
    "\n",
    "\n",
    "        data_fcst = pd.DataFrame(columns=['Forecast time', 'forecast', 'Temperature','PrecipitationForm','PrecipitationProb', 'Humidity', 'WindSpeed', 'WindDirection', 'Cloud'])\n",
    "        data_fcst['Forecast time'] = date\n",
    "        data_fcst[['forecast', 'Temperature','PrecipitationForm','PrecipitationProb', 'Humidity', 'WindSpeed', 'WindDirection', 'Cloud']] = df[['forecast', 'Temperature','PrecipitationForm','PrecipitationProb', 'Humidity', 'WindSpeed', 'WindDirection', 'Cloud']]\n",
    "\n",
    "        data_fcst_concat = pd.concat([data_fcst_concat, data_fcst])\n",
    "        \n",
    "    return data_fcst_concat           \n"
   ]
  },
  {
   "cell_type": "code",
   "execution_count": null,
   "id": "6e208ff0-3990-4722-8ec1-51736000c369",
   "metadata": {},
   "outputs": [],
   "source": [
    "dangjin_data_path = './MA_data/dangjin'\n",
    "\n",
    "csv_list = sorted(glob(dangjin_data_path+'/*/*.csv'))"
   ]
  },
  {
   "cell_type": "code",
   "execution_count": null,
   "id": "b96e95df-dddb-4656-9ad9-9728944dffe1",
   "metadata": {},
   "outputs": [],
   "source": [
    "fcst_data_3h = pd.DataFrame(columns=['Forecast time', 'forecast', 'Temperature','PrecipitationForm','PrecipitationProb', 'Humidity', 'WindSpeed', 'WindDirection', 'Cloud'])\n",
    "for i in range(5):\n",
    "    fcst_data_3h = pd.concat([fcst_data_3h, preprocessing_3h(csv_list[i*11:i*11+11], 2016+i)])"
   ]
  },
  {
   "cell_type": "code",
   "execution_count": null,
   "id": "c1c520be-41e5-4f82-a596-453b54dbe3c4",
   "metadata": {},
   "outputs": [],
   "source": [
    "def to_date(x):\n",
    "    return pd.DateOffset(hours=x)\n",
    "\n",
    "def forecasting_interpolation_h23(fcst_data, hour):\n",
    "    #예보 시간 컬럼의 데이터 타입을 datetime으로 변경\n",
    "    fcst_data['Forecast_time'] = pd.to_datetime(fcst_data['Forecast time'] )  \n",
    "    \n",
    "    #23시 기준일 경우 \n",
    "    fcst_23 = fcst_data[fcst_data['Forecast_time'].dt.hour==23]\n",
    "    fcst_23 = fcst_23[(fcst_23['forecast']>=4)&(fcst_23['forecast']<=22)]\n",
    "    \n",
    "    #예보시점에 forecast 더하기\n",
    "    fcst_23['Forecast_time'] = fcst_23['Forecast_time'] + fcst_23['forecast'].map(to_date) \n",
    "    \n",
    "    if hour == 3:\n",
    "        fcst_23 = fcst_23[['Forecast_time','Temperature','PrecipitationForm','PrecipitationProb', 'Humidity', 'WindSpeed', 'WindDirection', 'Cloud']]\n",
    "        fcst_23['Temperature'] = fcst_23['Temperature'].astype(float)\n",
    "        fcst_23['PrecipitationForm'] = fcst_23['PrecipitationForm'].astype(float)\n",
    "        fcst_23['Cloud'] = fcst_23['Cloud'].astype(float)\n",
    "\n",
    "    elif hour == 6:\n",
    "        fcst_23 = fcst_23[['Forecast_time', 'Precipitation','Snow']]\n",
    "\n",
    "    #interpolation\n",
    "    fcst_23_ = pd.DataFrame()\n",
    "    fcst_23_['Forecast_time'] = pd.date_range(start ='2016-03-02 00:00:00', end='2021-03-01 23:00:00', freq='H')\n",
    "\n",
    "    fcst_23_ = pd.merge(fcst_23_, fcst_23, on='Forecast_time', how='outer')\n",
    "    \n",
    "    return fcst_23_\n",
    "\n",
    "\n",
    "\n",
    "\n",
    "def forecasting_interpolation_h20(fcst_data, df, hour):\n",
    "    #예보 시간 컬럼의 데이터 타입을 datetime으로 변경\n",
    "    fcst_data['Forecast_time'] = pd.to_datetime(fcst_data['Forecast time'] )  \n",
    "    \n",
    "    #20시 기준일 경우 \n",
    "    fcst_20 = fcst_data[fcst_data['Forecast_time'].dt.hour==20]\n",
    "    fcst_20 = fcst_20[(fcst_20['forecast']==4)]\n",
    "    \n",
    "    #예보시점에 forecast 더하기\n",
    "    fcst_20['Forecast_time'] = fcst_20['Forecast_time'] + fcst_20['forecast'].map(to_date) \n",
    "    \n",
    "    if hour == 3:\n",
    "        fcst_20 = fcst_20[['Forecast_time','Temperature','PrecipitationForm','PrecipitationProb', 'Humidity', 'WindSpeed', 'WindDirection', 'Cloud']]\n",
    "        fcst_20['Temperature'] = fcst_20['Temperature'].astype(float)\n",
    "        fcst_20['PrecipitationForm'] = fcst_20['PrecipitationForm'].astype(float)\n",
    "        fcst_20['Cloud'] = fcst_20['Cloud'].astype(float)\n",
    "\n",
    "    elif hour == 6:\n",
    "        fcst_20 = fcst_20[['Forecast_time', 'Precipitation','Snow']]\n",
    "        \n",
    "    j=0    \n",
    "    for i in range(0, df.shape[0], 24):\n",
    "        df.iloc[i] = fcst_20.iloc[j]\n",
    "        j= j+1\n",
    "\n",
    "    return df"
   ]
  },
  {
   "cell_type": "code",
   "execution_count": null,
   "id": "5b8e0392-662c-455e-bb83-fe2038deecd2",
   "metadata": {},
   "outputs": [],
   "source": [
    "dangjin_3Interval_h23 = forecasting_interpolation_h23(fcst_data_3h, 3)\n",
    "dangjin_3Interval_h20 = forecasting_interpolation_h20(fcst_data_3h, dangjin_3Interval_h23, 3)\n",
    "dangjin_3Interval_h2320 = dangjin_3Interval_h20.interpolate()"
   ]
  },
  {
   "cell_type": "markdown",
   "id": "819cde33-27ee-438a-9155-d321013bc574",
   "metadata": {},
   "source": [
    "<H3>당진지역 6시간 간격 예보 데이터 전처리"
   ]
  },
  {
   "cell_type": "code",
   "execution_count": null,
   "id": "32ecf291-f4e4-4077-aff2-0c598b4a3083",
   "metadata": {},
   "outputs": [],
   "source": [
    "def preprocessing_6h(path_list, y):\n",
    "    #데이터 불러오기\n",
    "    #'forecast', 'Temperature','Precipitation','Snow','PrecipitationForm','PrecipitationProb', 'Humidity','MaxTemp','MinTemp', 'WindSpeed', 'WindDirection', 'Cloud' \n",
    "    data_year_precipitation = pd.read_csv(path_list[1])\n",
    "    data_year_snow = pd.read_csv(path_list[2]) \n",
    "\n",
    "    # 데이터 결합 (6시간)\n",
    "    data_year = data_year_precipitation[[' format: day', 'hour', 'forecast']]\n",
    "    data_year['Precipitation'] = data_year_precipitation[data_year_precipitation.columns[-1]] #강수량\n",
    "    data_year['Snow'] = data_year_snow[data_year_snow.columns[-1]] #적설량\n",
    "\n",
    "    # 월 구분 행 추출\n",
    "    month_rows = [-1]\n",
    "    month_rows.extend(data_year[data_year['hour'].isna()].index)\n",
    "    month_rows.append(data_year.shape[0]+1)\n",
    "    \n",
    "    # 월별 데이터 분리\n",
    "    month_data = []\n",
    "    for i in range(len(month_rows)-1):\n",
    "        month_data.append(data_year.loc[month_rows[i]+1:month_rows[i+1]-1])\n",
    "     \n",
    "    # 예보 시간 생성 및 데이터 결합\n",
    "    data_fcst_concat = pd.DataFrame(columns=['Forecast time', 'forecast', 'Precipitation','Snow'])\n",
    "    for i, df in enumerate(month_data):\n",
    "        month = i+3\n",
    "        year = y\n",
    "        if month == 13:\n",
    "            month = 1\n",
    "            year += 1\n",
    "        elif month == 14:\n",
    "            month = 2\n",
    "            year += 1\n",
    "\n",
    "        date = f'{year}-{month}-' + df[' format: day'].str.split(' ').str[-1] + ' ' + (df['hour'].astype(int)//100).astype(str) + ':00'\n",
    "        \n",
    "        # 시간단위 UTC => GMT\n",
    "        date = pd.to_datetime(date) + pd.DateOffset(hours=9)\n",
    "\n",
    "\n",
    "\n",
    "        data_fcst = pd.DataFrame(columns=['Forecast time', 'forecast', 'Precipitation','Snow'])\n",
    "        data_fcst['Forecast time'] = date\n",
    "        data_fcst[['forecast','Precipitation','Snow']] = df[['forecast', 'Precipitation','Snow']]\n",
    "\n",
    "        data_fcst_concat = pd.concat([data_fcst_concat, data_fcst])\n",
    "        \n",
    "    return data_fcst_concat           \n"
   ]
  },
  {
   "cell_type": "code",
   "execution_count": null,
   "id": "e566a1ea-1e2c-4a49-b959-fd90106b916a",
   "metadata": {},
   "outputs": [],
   "source": [
    "fcst_data_6h = pd.DataFrame(columns=['Forecast time', 'forecast',  'Precipitation','Snow'])\n",
    "for i in range(5):\n",
    "    fcst_data_6h = pd.concat([fcst_data_6h, preprocessing_6h(csv_list[i*11:i*11+11], 2016+i)])"
   ]
  },
  {
   "cell_type": "code",
   "execution_count": null,
   "id": "5f1f6107-f552-4c1b-9f27-2b02b1145a13",
   "metadata": {},
   "outputs": [],
   "source": [
    "dangjin_6Interval_h23 = forecasting_interpolation_h23(fcst_data_6h, 6)\n",
    "dangjin_6Interval_h20 = forecasting_interpolation_h20(fcst_data_6h, dangjin_6Interval_h23, 6)\n",
    "dangjin_6Interval_h2320 = dangjin_6Interval_h20.interpolate()"
   ]
  },
  {
   "cell_type": "code",
   "execution_count": null,
   "id": "01d1a6d3-f5a6-45c7-bec8-762941bc28d0",
   "metadata": {},
   "outputs": [],
   "source": [
    "dangjin_fcst = pd.merge(dangjin_3Interval_h2320, dangjin_6Interval_h2320, on='Forecast_time', how='outer')"
   ]
  },
  {
   "cell_type": "markdown",
   "id": "239e727d-54ba-4aad-80a5-2f63d145eb12",
   "metadata": {},
   "source": [
    "<h3>울산지역 3시간 간격 기상예보 데이터 전처리"
   ]
  },
  {
   "cell_type": "code",
   "execution_count": null,
   "id": "382c84f5-c778-4781-9ef1-994be38202f2",
   "metadata": {},
   "outputs": [],
   "source": [
    "ulsan_data_path = './MA_data/ulsan'\n",
    "csv_list = sorted(glob(ulsan_data_path+'/*/*.csv'))"
   ]
  },
  {
   "cell_type": "code",
   "execution_count": null,
   "id": "f262644f-abd1-4742-b9f5-f2fc1c87d30c",
   "metadata": {},
   "outputs": [],
   "source": [
    "fcst_data_3h = pd.DataFrame(columns=['Forecast time', 'forecast', 'Temperature','PrecipitationForm','PrecipitationProb', 'Humidity', 'WindSpeed', 'WindDirection', 'Cloud'])\n",
    "for i in range(5):\n",
    "    fcst_data_3h = pd.concat([fcst_data_3h, preprocessing_3h(csv_list[i*11:i*11+11], 2016+i)])"
   ]
  },
  {
   "cell_type": "code",
   "execution_count": null,
   "id": "4114e8dc-efef-4946-a3e9-b3ccb12859aa",
   "metadata": {},
   "outputs": [],
   "source": [
    "ulsan_3Interval_h23 = forecasting_interpolation_h23(fcst_data_3h, 3)\n",
    "ulsan_3Interval_h20  = forecasting_interpolation_h20(fcst_data_3h,ulsan_3Interval_h23,3)\n",
    "ulsan_3Interval_h2320 = ulsan_3Interval_h20.interpolate()"
   ]
  },
  {
   "cell_type": "markdown",
   "id": "646ee473-2660-42df-b4ea-d8ba4b5c901c",
   "metadata": {},
   "source": [
    "<h3>울산지역 6시간 간격 기상예보 데이터 전처리"
   ]
  },
  {
   "cell_type": "code",
   "execution_count": null,
   "id": "f477bb1e-c57d-4400-b833-37326f29f44a",
   "metadata": {},
   "outputs": [],
   "source": [
    "fcst_data_6h = pd.DataFrame(columns=['Forecast time', 'forecast',  'Precipitation','Snow'])\n",
    "for i in range(5):\n",
    "    fcst_data_6h = pd.concat([fcst_data_6h, preprocessing_6h(csv_list[i*11:i*11+11], 2016+i)])"
   ]
  },
  {
   "cell_type": "code",
   "execution_count": null,
   "id": "98713e2f-870e-4689-8f92-c6331027577f",
   "metadata": {},
   "outputs": [],
   "source": [
    "ulsan_6Interval_h23 = forecasting_interpolation_h23(fcst_data_6h, 6)\n",
    "ulsan_6Interval_h20 = forecasting_interpolation_h20(fcst_data_6h, ulsan_6Interval_h23, 6)\n",
    "ulsan_6Interval_h2320 = ulsan_6Interval_h20.interpolate()"
   ]
  },
  {
   "cell_type": "code",
   "execution_count": null,
   "id": "b908c1ea-0c83-494d-8050-d1aaee2ba03f",
   "metadata": {},
   "outputs": [],
   "source": [
    "ulsan_fcst = pd.merge(ulsan_3Interval_h2320, ulsan_6Interval_h2320, on='Forecast_time', how='outer')"
   ]
  },
  {
   "cell_type": "markdown",
   "id": "538e31e6-adfe-4f72-82f6-b2cb603c59cf",
   "metadata": {},
   "source": [
    "<h3> API를 이용한 일출일몰 데이터 추가 - 당진"
   ]
  },
  {
   "cell_type": "code",
   "execution_count": null,
   "id": "3a66b02d-04c9-4aa9-97bf-cba6fe70e96d",
   "metadata": {},
   "outputs": [],
   "source": [
    "from urllib.request import urlopen\n",
    "from urllib.request import Request \n",
    "from urllib.parse import urlencode, quote_plus\n",
    "\n",
    "import urllib.request as ul\n",
    "import xmltodict\n",
    "import json\n",
    "import sys\n",
    "import io\n",
    "\n",
    "site_info = pd.read_csv('./data/site_info.csv')"
   ]
  },
  {
   "cell_type": "code",
   "execution_count": null,
   "id": "48ce940d-4f96-46fa-8f5f-da4f9c220d9b",
   "metadata": {},
   "outputs": [],
   "source": [
    "def make_locdate(x):\n",
    "    Ymd, HMS = x.split(' ')\n",
    "    Y, M, D = Ymd.split('-')\n",
    "    return Y+M+D"
   ]
  },
  {
   "cell_type": "code",
   "execution_count": null,
   "id": "0818f4a2-c219-4a4c-831e-aac1dadbe71d",
   "metadata": {},
   "outputs": [],
   "source": [
    "dangjin_fcst['Forecast_time'] = dangjin_fcst['Forecast_time'].astype(str) \n",
    "dangjin_fcst['locdate'] = dangjin_fcst['Forecast_time'].apply(lambda x:make_locdate(x))"
   ]
  },
  {
   "cell_type": "code",
   "execution_count": null,
   "id": "31ba5093-e5df-4608-b798-5616855f8249",
   "metadata": {},
   "outputs": [],
   "source": [
    "longi = site_info[(site_info['Id']=='당진태양광')]['Longitude'].values[0]\n",
    "lati = site_info[(site_info['Id']=='당진태양광')]['Latitude'].values[0]\n",
    "\n",
    "for i in range(0, dangjin_fcst.shape[0], 24):\n",
    "    locdate = dangjin_fcst.loc[i,'locdate']\n",
    "    url = 'http://apis.data.go.kr/B090041/openapi/service/RiseSetInfoService/getLCRiseSetInfo?longitude='+str(longi)+'&latitude='+str(lati)+'&locdate='+str(locdate)+'&dnYn=Y&ServiceKey=API 키 값을 넣어주세요'\n",
    "    requestd = Request(url)\n",
    "    requestd.get_method = lambda: 'GET'\n",
    "    response_body = urlopen(requestd).read()\n",
    "    resp = xmltodict.parse(response_body)\n",
    "    resp_dic = json.loads(json.dumps(resp))\n",
    "    dangjin_fcst.loc[i, 'sunrise'] = resp_dic['response']['body']['items']['item']['sunrise']\n",
    "    dangjin_fcst.loc[i, 'sunset'] = resp_dic['response']['body']['items']['item']['sunset']\n",
    "print('end')"
   ]
  },
  {
   "cell_type": "code",
   "execution_count": null,
   "id": "bf1a2cb1-b193-4dcc-b0e8-4b421f28e62a",
   "metadata": {},
   "outputs": [],
   "source": [
    "for i in range(0, dangjin_fcst.shape[0], 24):\n",
    "    dangjin_fcst['sunrise'] = dangjin_fcst['sunrise'].fillna(method='ffill')\n",
    "    dangjin_fcst['sunset'] = dangjin_fcst['sunset'].fillna(method='ffill')"
   ]
  },
  {
   "cell_type": "code",
   "execution_count": null,
   "id": "d0f1407e-0124-4277-b718-20a18bd23c67",
   "metadata": {},
   "outputs": [],
   "source": [
    "dangjin_fcst['sunrise'] = dangjin_fcst['sunrise'].astype(int)//100\n",
    "dangjin_fcst['sunset'] = dangjin_fcst['sunset'].astype(int)//100"
   ]
  },
  {
   "cell_type": "code",
   "execution_count": null,
   "id": "25307e64-108c-4fe8-99f3-cf5d38c2e626",
   "metadata": {},
   "outputs": [],
   "source": [
    "dangjin_fcst.info()"
   ]
  },
  {
   "cell_type": "markdown",
   "id": "240e5391-1854-4afb-9d27-3a0372dcfb3f",
   "metadata": {},
   "source": [
    "<h3> API를 이용한 일출일몰 데이터 추가 - 울산"
   ]
  },
  {
   "cell_type": "code",
   "execution_count": null,
   "id": "bbc50fb9-6b98-42f9-ad66-45f58f7ac842",
   "metadata": {},
   "outputs": [],
   "source": [
    "ulsan_fcst['Forecast_time'] = ulsan_fcst['Forecast_time'].astype(str) \n",
    "ulsan_fcst['locdate'] = ulsan_fcst['Forecast_time'].apply(lambda x:make_locdate(x))"
   ]
  },
  {
   "cell_type": "code",
   "execution_count": null,
   "id": "bdd8d6d1-fa72-4fcb-a896-ffc0aaf4ff9a",
   "metadata": {},
   "outputs": [],
   "source": [
    "longi = site_info[(site_info['Id']=='울산태양광')]['Longitude'].values[0]\n",
    "lati = site_info[(site_info['Id']=='울산태양광')]['Latitude'].values[0]\n",
    "\n",
    "for i in range(0, ulsan_fcst.shape[0], 24):\n",
    "    locdate = ulsan_fcst.loc[i,'locdate']\n",
    "    url = 'http://apis.data.go.kr/B090041/openapi/service/RiseSetInfoService/getLCRiseSetInfo?longitude='+str(longi)+'&latitude='+str(lati)+'&locdate='+str(locdate)+'&dnYn=Y&ServiceKey=API 키 값을 넣어주세요'\n",
    "    requestd = Request(url)\n",
    "    requestd.get_method = lambda: 'GET'\n",
    "    response_body = urlopen(requestd).read()\n",
    "    resp = xmltodict.parse(response_body)\n",
    "    resp_dic = json.loads(json.dumps(resp))\n",
    "    ulsan_fcst.loc[i, 'sunrise'] = resp_dic['response']['body']['items']['item']['sunrise']\n",
    "    ulsan_fcst.loc[i, 'sunset'] = resp_dic['response']['body']['items']['item']['sunset']\n",
    "print('end')"
   ]
  },
  {
   "cell_type": "code",
   "execution_count": null,
   "id": "53f51ccd-b52b-43e5-9c76-991b72606cf3",
   "metadata": {},
   "outputs": [],
   "source": [
    "for i in range(0, ulsan_fcst.shape[0], 24):\n",
    "    ulsan_fcst['sunrise'] = ulsan_fcst['sunrise'].fillna(method='ffill')\n",
    "    ulsan_fcst['sunset'] = ulsan_fcst['sunset'].fillna(method='ffill')\n",
    "    \n",
    "ulsan_fcst['sunrise'] = ulsan_fcst['sunrise'].astype(int)//100\n",
    "ulsan_fcst['sunset'] = ulsan_fcst['sunset'].astype(int)//100"
   ]
  },
  {
   "cell_type": "code",
   "execution_count": null,
   "id": "f0e75aeb-8718-4f28-afa1-0c6e3c238936",
   "metadata": {},
   "outputs": [],
   "source": [
    "ulsan_fcst.info()"
   ]
  },
  {
   "cell_type": "markdown",
   "id": "c9fc6226-ef49-4b07-90df-00e47aa0f8bf",
   "metadata": {},
   "source": [
    "<h3> 최종 저장"
   ]
  },
  {
   "cell_type": "code",
   "execution_count": null,
   "id": "ded88e41-5d32-41a5-a08f-5588e68bcc26",
   "metadata": {},
   "outputs": [],
   "source": [
    "dangjin_fcst.to_csv('./new_data/dangjin_fcst_h2320.csv', index=False)\n",
    "ulsan_fcst.to_csv('./new_data/ulsan_fcst_h2320.csv', index=False)"
   ]
  }
 ],
 "metadata": {
  "kernelspec": {
   "display_name": "Python 3",
   "language": "python",
   "name": "python3"
  },
  "language_info": {
   "codemirror_mode": {
    "name": "ipython",
    "version": 3
   },
   "file_extension": ".py",
   "mimetype": "text/x-python",
   "name": "python",
   "nbconvert_exporter": "python",
   "pygments_lexer": "ipython3",
   "version": "3.8.8"
  }
 },
 "nbformat": 4,
 "nbformat_minor": 5
}
