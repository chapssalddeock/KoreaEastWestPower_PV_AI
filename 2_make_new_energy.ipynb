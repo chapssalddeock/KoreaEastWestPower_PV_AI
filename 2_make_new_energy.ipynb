{
 "cells": [
  {
   "cell_type": "code",
   "execution_count": null,
   "metadata": {},
   "outputs": [],
   "source": [
    "import pandas as pd\n",
    "import numpy as np\n",
    "from glob import glob\n",
    "import matplotlib.pyplot as plt"
   ]
  },
  {
   "cell_type": "markdown",
   "metadata": {},
   "source": [
    "# 한국동서발전 시간대별 태양광 발전량 데이터 추가\n",
    "\n",
    "발전소명\n",
    "\n",
    "* 당진태양광 : dangjin\n",
    "* 당진수상태양광 : dangjin_floating\n",
    "* 당진자재창고태양광 : dangjin_warehouse\n",
    "* 울산태양광 : ulsan\n",
    "\n",
    "태양광 발전량 데이터 경로 및 파일 이름 : /data/\n",
    "* 한국동서발전 시간대별 태양광 발전량 현황(2015_2017).csv\n",
    "* 한국동서발전 시간대별 태양광 및 풍력 발전량 현황(2018_2019).csv\n",
    "\n",
    "태양광 발전량 데이터도 결측값이 있습니다.\n",
    "* 울산태양광 15년 1월 2일 ~ 1월 31일\n",
    " \n"
   ]
  },
  {
   "cell_type": "code",
   "execution_count": null,
   "metadata": {},
   "outputs": [],
   "source": [
    "def convert_time(x):\n",
    "    Ymd, HMS = x.split(' ')\n",
    "    H, M, S = HMS.split(':')\n",
    "    H = str(int(H)-1)\n",
    "    HMS = ':'.join([H, M, S])\n",
    "    return ' '.join([Ymd, HMS])  "
   ]
  },
  {
   "cell_type": "markdown",
   "metadata": {},
   "source": [
    "## 기존 태양광 발전량 데이터"
   ]
  },
  {
   "cell_type": "code",
   "execution_count": null,
   "metadata": {},
   "outputs": [],
   "source": [
    "energy = pd.read_csv('./data/energy.csv')\n",
    "energy['time'] = energy['time'].apply(lambda x:convert_time(x))\n",
    "energy['time']=pd.to_datetime(energy['time']) + pd.DateOffset(hours=1)\n",
    "energy[['dangjin','ulsan']]=energy[['dangjin','ulsan']].astype(float)\n",
    "print(energy.info())\n",
    "energy"
   ]
  },
  {
   "cell_type": "markdown",
   "metadata": {},
   "source": [
    "## 추가할 2015년 1월 ~ 2018년 2월 태양광 발전량 데이터"
   ]
  },
  {
   "cell_type": "code",
   "execution_count": null,
   "metadata": {},
   "outputs": [],
   "source": [
    "past_energy1 = pd.read_csv('./data/한국동서발전 시간대별 태양광 및 풍력 발전량 현황(2018_2019).csv', encoding='cp949')\n",
    "past_energy2 = pd.read_csv('./data/한국동서발전 시간대별 태양광 발전량 현황(2015_2017).csv', encoding='cp949')\n",
    "past_energy1['시간']=pd.to_datetime(past_energy1['시간'])\n",
    "past_energy2['시간']=pd.to_datetime(past_energy2['시간'])\n",
    "past_energy=pd.concat([past_energy1,past_energy2])\n",
    "past_energy.sort_values(by=['시간'],ascending=True, inplace=True)\n",
    "\n",
    "dangjin_energy=past_energy[past_energy['태양광명']=='당진태양광']\n",
    "dangjin_float_energy=past_energy[(past_energy['태양광명']=='당진수상태양광')|(past_energy['태양광명']=='당진취수로태양광')] \n",
    "dangjin_warehouse_energy=past_energy[past_energy['태양광명']=='당진자재창고태양광']\n",
    "ulsan_energy=past_energy[past_energy['태양광명']=='울산태양광']"
   ]
  },
  {
   "cell_type": "markdown",
   "metadata": {},
   "source": [
    "## 필요한 부분만 잘라내기"
   ]
  },
  {
   "cell_type": "code",
   "execution_count": null,
   "metadata": {},
   "outputs": [],
   "source": [
    "ulsan_energy=ulsan_energy[ulsan_energy['시간'].dt.year <= 2018]\n",
    "ulsan_energy=ulsan_energy[~((ulsan_energy['시간'].dt.year == 2018) & (ulsan_energy['시간'].dt.month >= 3))]\n",
    "dangjin_energy=dangjin_energy[dangjin_energy['시간'].dt.year <= 2018]\n",
    "dangjin_energy=dangjin_energy[~((dangjin_energy['시간'].dt.year == 2018) & (dangjin_energy['시간'].dt.month >= 3))]\n",
    "dangjin_float_energy=dangjin_float_energy[dangjin_float_energy['시간'].dt.year <= 2018]\n",
    "dangjin_float_energy=dangjin_float_energy[~((dangjin_float_energy['시간'].dt.year == 2018) & (dangjin_float_energy['시간'].dt.month >= 3))]\n",
    "dangjin_warehouse_energy=dangjin_warehouse_energy[dangjin_warehouse_energy['시간'].dt.year <= 2018]\n",
    "dangjin_warehouse_energy=dangjin_warehouse_energy[~((dangjin_warehouse_energy['시간'].dt.year == 2018) & (dangjin_warehouse_energy['시간'].dt.month >= 3))]"
   ]
  },
  {
   "cell_type": "markdown",
   "metadata": {},
   "source": [
    "## 시간대별로 만들기위해 일별로 24번 반복"
   ]
  },
  {
   "cell_type": "code",
   "execution_count": null,
   "metadata": {},
   "outputs": [],
   "source": [
    "ulsan_energy=ulsan_energy.reset_index(drop=True)\n",
    "dangjin_energy=dangjin_energy.reset_index(drop=True)\n",
    "dangjin_float_energy=dangjin_float_energy.reset_index(drop=True)\n",
    "dangjin_warehouse_energy=dangjin_warehouse_energy.reset_index(drop=True)\n",
    "\n",
    "dangjin=pd.DataFrame(columns=['시간','dangjin'])\n",
    "dangjin_floating=pd.DataFrame(columns=['시간','dangjin_floating'])\n",
    "dangjin_warehouse=pd.DataFrame(columns=['시간','dangjin_warehouse'])\n",
    "ulsan=pd.DataFrame(columns=['시간','ulsan'])\n",
    "\n",
    "dangjin['dangjin']=dangjin['dangjin'].astype(float)\n",
    "dangjin_floating['dangjin_floating']=dangjin_floating['dangjin_floating'].astype(float)\n",
    "dangjin_warehouse['dangjin_warehouse']=dangjin_warehouse['dangjin_warehouse'].astype(float)\n",
    "ulsan['ulsan']=ulsan['ulsan'].astype(float)\n",
    "\n",
    "for i in range(24):\n",
    "    dangjin=dangjin.append(dangjin_energy,ignore_index = True)\n",
    "    dangjin_floating=dangjin_floating.append(dangjin_float_energy,ignore_index = True)\n",
    "    dangjin_warehouse=dangjin_warehouse.append(dangjin_warehouse_energy,ignore_index = True)\n",
    "    ulsan=ulsan.append(ulsan_energy,ignore_index = True)\n",
    "\n",
    "dangjin.sort_values(by=['시간'],ascending=True, inplace=True)\n",
    "dangjin_floating.sort_values(by=['시간'],ascending=True, inplace=True)\n",
    "dangjin_warehouse.sort_values(by=['시간'],ascending=True, inplace=True)\n",
    "ulsan.sort_values(by=['시간'],ascending=True, inplace=True)\n",
    "\n",
    "dangjin.reset_index(drop=True, inplace=True)\n",
    "dangjin_floating.reset_index(drop=True, inplace=True)\n",
    "dangjin_warehouse.reset_index(drop=True, inplace=True)\n",
    "ulsan.reset_index(drop=True, inplace=True)"
   ]
  },
  {
   "cell_type": "markdown",
   "metadata": {},
   "source": [
    "## 시간별로 변환"
   ]
  },
  {
   "cell_type": "code",
   "execution_count": null,
   "metadata": {},
   "outputs": [],
   "source": [
    "for i in range(24):\n",
    "    dangjin.iloc[i::24,0]=pd.to_datetime('20' + dangjin.iloc[i::24,0].dt.strftime('%y-%m-%d')+ ' ' + str(i) + ':00') + pd.DateOffset(hours=1)\n",
    "    dangjin_floating.iloc[i::24,0]=pd.to_datetime('20' + dangjin_floating.iloc[i::24,0].dt.strftime('%y-%m-%d')+ ' ' + str(i) + ':00') + pd.DateOffset(hours=1)\n",
    "    dangjin_warehouse.iloc[i::24,0]=pd.to_datetime('20' + dangjin_warehouse.iloc[i::24,0].dt.strftime('%y-%m-%d')+ ' ' + str(i) + ':00') + pd.DateOffset(hours=1)\n",
    "    ulsan.iloc[i::24,0]=pd.to_datetime('20' + ulsan.iloc[i::24,0].dt.strftime('%y-%m-%d')+ ' ' + str(i) + ':00') + pd.DateOffset(hours=1)\n",
    "\n",
    "    dangjin.iloc[i::24,1]=dangjin.iloc[i::24,i+3].astype(float)\n",
    "    dangjin_floating.iloc[i::24,1]=dangjin_floating.iloc[i::24,i+3].astype(float)\n",
    "    dangjin_warehouse.iloc[i::24,1]=dangjin_warehouse.iloc[i::24,i+3].astype(float)\n",
    "    ulsan.iloc[i::24,1]=ulsan.iloc[i::24,i+3]\n",
    "\n",
    "dangjin=dangjin.iloc[:,0:2]\n",
    "dangjin_floating=dangjin_floating.iloc[:,0:2]\n",
    "dangjin_warehouse=dangjin_warehouse.iloc[:,0:2]\n",
    "ulsan=ulsan.iloc[:,0:2]\n",
    "dangjin.columns = ['time', 'dangjin']\n",
    "dangjin_floating.columns = ['time', 'dangjin_floating']\n",
    "dangjin_warehouse.columns = ['time', 'dangjin_warehouse']\n",
    "ulsan.columns = ['time', 'ulsan']"
   ]
  },
  {
   "cell_type": "code",
   "execution_count": null,
   "metadata": {},
   "outputs": [],
   "source": [
    "ulsan.info()"
   ]
  },
  {
   "cell_type": "markdown",
   "metadata": {},
   "source": [
    "## 하나의 데이터프레임으로 합치기"
   ]
  },
  {
   "cell_type": "code",
   "execution_count": null,
   "metadata": {},
   "outputs": [],
   "source": [
    "new_energy= pd.DataFrame(columns=['time'])\n",
    "new_energy['time'] = pd.date_range(start='2015-01-01 01:00:00', end='2018-03-01 00:00:00', freq='H')\n",
    "new_energy = pd.merge(new_energy, dangjin_floating, on=['time'], how='outer')\n",
    "new_energy = pd.merge(new_energy, dangjin_warehouse, on=['time'],how='outer')\n",
    "new_energy = pd.merge(new_energy, dangjin, on=['time'], how='outer')\n",
    "new_energy = pd.merge(new_energy, ulsan, on=['time'],how='outer')\n",
    "new_energy = pd.concat([new_energy, energy])"
   ]
  },
  {
   "cell_type": "code",
   "execution_count": null,
   "metadata": {},
   "outputs": [],
   "source": [
    "new_energy.head(10)"
   ]
  },
  {
   "cell_type": "code",
   "execution_count": null,
   "metadata": {},
   "outputs": [],
   "source": [
    "new_energy.to_csv('./new_data/new_energy.csv')"
   ]
  }
 ],
 "metadata": {
  "kernelspec": {
   "display_name": "Python 3",
   "language": "python",
   "name": "python3"
  },
  "language_info": {
   "codemirror_mode": {
    "name": "ipython",
    "version": 3
   },
   "file_extension": ".py",
   "mimetype": "text/x-python",
   "name": "python",
   "nbconvert_exporter": "python",
   "pygments_lexer": "ipython3",
   "version": "3.8.8"
  },
  "metadata": {
   "interpreter": {
    "hash": "7e69553b6b83f67eb397483cec61d6c2efcfcef4a7d9d7451bf16338610db287"
   }
  }
 },
 "nbformat": 4,
 "nbformat_minor": 4
}
