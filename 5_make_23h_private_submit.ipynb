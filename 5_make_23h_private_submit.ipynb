{
 "cells": [
  {
   "cell_type": "markdown",
   "metadata": {},
   "source": [
    "## private submit\n",
    "\n",
    "* 당진태양광 : dangjin\n",
    "* 당진수상태양광 : dangjin_floating\n",
    "* 당진자재창고태양광 : dangjin_warehouse\n",
    "* 울산태양광 : ulsan\n",
    "\n",
    "기상청 데이터 경로 및 파일 이름 : /new_data\n",
    "* 당진 데이터 dangjin_fcst_h2320.csv\n",
    "* 울산 데이터 ulsan_fcst_h2320.csv\n",
    "* /data/sample_submission.csv"
   ]
  },
  {
   "cell_type": "markdown",
   "metadata": {},
   "source": [
    "#### <span style=\"color:red\"><b>해당 코드는 API 사용이 포함되어 있습니다.</b> </span> \n",
    "따라서 'API 키 값을 넣어주세요' 라는 문구를 포함하였습니다. <br>\n",
    "dacon 측의 요청대로 API 키 값을 가린 부분입니다. <br>\n",
    "코드 사용 시 반드시 API 키 값 첨부 후 사용 바랍니다."
   ]
  },
  {
   "cell_type": "code",
   "execution_count": null,
   "metadata": {},
   "outputs": [],
   "source": [
    "import urllib.request as ul\n",
    "import xmltodict\n",
    "import json\n",
    "import sys\n",
    "import io"
   ]
  },
  {
   "cell_type": "code",
   "execution_count": null,
   "metadata": {},
   "outputs": [],
   "source": [
    "import pandas as pd\n",
    "import numpy as np\n",
    "import matplotlib.pyplot as plt\n",
    "import seaborn as sns\n",
    "import warnings\n",
    "warnings.filterwarnings('ignore')"
   ]
  },
  {
   "cell_type": "code",
   "execution_count": null,
   "metadata": {},
   "outputs": [],
   "source": [
    "from urllib.request import urlopen\n",
    "from urllib.request import Request \n",
    "from urllib.parse import urlencode, quote_plus\n",
    "from datetime import date, timedelta\n",
    "from tensorflow.keras.models import load_model"
   ]
  },
  {
   "cell_type": "markdown",
   "metadata": {},
   "source": [
    "#### <span style=\"color:blue\">* private 평가를 위해 날짜를 설정하는 부분입니다. </span>\n",
    "따라서 이 코드를 사용해서 리더보드 복원 시에 dacon 측에서는 날짜를 변경하셔야 합니다."
   ]
  },
  {
   "cell_type": "code",
   "execution_count": null,
   "metadata": {},
   "outputs": [],
   "source": [
    "today = date.today().strftime(\"%Y%m%d\")"
   ]
  },
  {
   "cell_type": "markdown",
   "metadata": {},
   "source": [
    "## 당진 내일 기상 예보 받아오기(충남 당진시 석문면 기준, x=53, y=114)"
   ]
  },
  {
   "cell_type": "code",
   "execution_count": null,
   "metadata": {},
   "outputs": [],
   "source": [
    "url = 'http://apis.data.go.kr/1360000/VilageFcstInfoService/getVilageFcst?serviceKey=API 키 값을 넣어주세요&numOfRows=113&base_date='+str(today)+'&base_time=2000&nx=53&ny=114'\n",
    "\n",
    "requestd = Request(url)\n",
    "requestd.get_method = lambda: 'GET'\n",
    "response_body = urlopen(requestd).read()\n",
    "resp = xmltodict.parse(response_body)\n",
    "response20 = json.loads(json.dumps(resp))"
   ]
  },
  {
   "cell_type": "markdown",
   "metadata": {},
   "source": [
    "##### <span style=\"color:blue\">* private 평가를 위해 날짜를 설정하는 부분입니다. </span>\n",
    "date = date.today() + timedelta(1) <br>\n",
    "따라서 이 코드를 사용해서 리더보드 복원 시에 dacon 측에서는 날짜를 변경하셔야 합니다."
   ]
  },
  {
   "cell_type": "code",
   "execution_count": null,
   "metadata": {
    "tags": []
   },
   "outputs": [],
   "source": [
    "dangjin_fcst_df = pd.DataFrame()\n",
    "\n",
    "date = date.today() + timedelta(1)\n",
    "dangjin_fcst_df['Forecast_time'] = [f'{date} {hour}:00' for hour in range(24)]\n",
    "row_idx = 0 #20시 예보 데이터를 삽입하기 위한 초기 위치 변수 입니다.\n",
    "\n",
    "for i, data in enumerate(response20['response']['body']['items']['item']):\n",
    "    if data['category']=='REH':\n",
    "        dangjin_fcst_df.loc[row_idx, 'Humidity'] = float(data['fcstValue'])\n",
    "        print('category:Humidity,',data['category'], 'baseTime:',data['baseTime'], ', fcstTime:', data['fcstTime'], ', fcstValue:', data['fcstValue'])\n",
    "    elif data['category']=='T3H':\n",
    "        dangjin_fcst_df.loc[row_idx, 'Temperature'] = float(data['fcstValue'])\n",
    "        print('category:Temperature,',data['category'], 'baseTime:',data['baseTime'], ', fcstTime:', data['fcstTime'], ', fcstValue:', data['fcstValue'])\n",
    "    elif data['category']=='SKY':\n",
    "        dangjin_fcst_df.loc[row_idx, 'Cloud'] = float(data['fcstValue'])\n",
    "        print('category:Cloud,',data['category'], 'baseTime:',data['baseTime'], ', fcstTime:', data['fcstTime'], ', fcstValue:', data['fcstValue'])\n",
    "    elif data['category']=='PTY':\n",
    "        dangjin_fcst_df.loc[row_idx, 'PrecipitationForm'] = float(data['fcstValue'])\n",
    "        print('category:PrecipitationForm,',data['category'], 'baseTime:',data['baseTime'], ', fcstTime:', data['fcstTime'], ', fcstValue:', data['fcstValue'])            \n",
    "    elif data['category']=='POP':\n",
    "        dangjin_fcst_df.loc[row_idx, 'PrecipitationProb'] = float(data['fcstValue'])\n",
    "        print('category:PrecipitationProb,',data['category'], 'baseTime:',data['baseTime'], ', fcstTime:', data['fcstTime'], ', fcstValue:', data['fcstValue'])                       \n",
    "    elif data['category']=='R06':\n",
    "        dangjin_fcst_df.loc[row_idx, 'Precipitation'] = float(data['fcstValue'])\n",
    "        print('category:Precipitation,',data['category'], 'baseTime:',data['baseTime'], ', fcstTime:', data['fcstTime'], ', fcstValue:', data['fcstValue'])                        \n",
    "    elif data['category']=='S06':\n",
    "        dangjin_fcst_df.loc[row_idx, 'Snow'] = float(data['fcstValue'])\n",
    "        print('category:Snow,',data['category'], 'baseTime:',data['baseTime'], ', fcstTime:', data['fcstTime'], ', fcstValue:', data['fcstValue'])                                              \n",
    "    elif data['category']=='VEC':\n",
    "        dangjin_fcst_df.loc[row_idx, 'WindDirection'] = float(data['fcstValue'])\n",
    "        print('category:WindDirection,',data['category'], 'baseTime:',data['baseTime'], ', fcstTime:', data['fcstTime'], ', fcstValue:', data['fcstValue'])\n",
    "    elif data['category']=='WSD':\n",
    "        dangjin_fcst_df.loc[row_idx, 'WindSpeed'] = float(data['fcstValue'])\n",
    "        print('category:WindSpeed,',data['category'], 'baseTime:',data['baseTime'], ', fcstTime:', data['fcstTime'], ', fcstValue:', data['fcstValue'], '\\n')\n",
    "        row_idx+=3"
   ]
  },
  {
   "cell_type": "markdown",
   "metadata": {},
   "source": [
    "3시간 간격으로 20시의 예보 데이터를 추출합니다."
   ]
  },
  {
   "cell_type": "code",
   "execution_count": null,
   "metadata": {},
   "outputs": [],
   "source": [
    "today = date.today().strftime(\"%Y%m%d\")\n",
    "\n",
    "url = 'http://apis.data.go.kr/1360000/VilageFcstInfoService/getVilageFcst?serviceKey=API 키 값을 넣어주세요&numOfRows=113&base_date='+str(today)+'&base_time=2300&nx=53&ny=114'\n",
    "\n",
    "requestd = Request(url)\n",
    "requestd.get_method = lambda: 'GET'\n",
    "response_body = urlopen(requestd).read()\n",
    "resp = xmltodict.parse(response_body)\n",
    "response23 = json.loads(json.dumps(resp))"
   ]
  },
  {
   "cell_type": "code",
   "execution_count": null,
   "metadata": {},
   "outputs": [],
   "source": [
    "row_idx = 3 #00시를 제외한 23시 예보 데이터를 덮어쓰기하기 위한 초기위치 변수 입니다.\n",
    "\n",
    "for i, data in enumerate(response23['response']['body']['items']['item']):\n",
    "    if data['category']=='REH':\n",
    "        dangjin_fcst_df.loc[row_idx, 'Humidity'] = float(data['fcstValue'])\n",
    "        print('category:Humidity,',data['category'], 'baseTime:',data['baseTime'], ', fcstTime:', data['fcstTime'], ', fcstValue:', data['fcstValue'])\n",
    "    elif data['category']=='T3H':\n",
    "        dangjin_fcst_df.loc[row_idx, 'Temperature'] = float(data['fcstValue'])\n",
    "        print('category:Temperature,',data['category'], 'baseTime:',data['baseTime'], ', fcstTime:', data['fcstTime'], ', fcstValue:', data['fcstValue'])\n",
    "    elif data['category']=='SKY':\n",
    "        dangjin_fcst_df.loc[row_idx, 'Cloud'] = float(data['fcstValue'])\n",
    "        print('category:Cloud,',data['category'], 'baseTime:',data['baseTime'], ', fcstTime:', data['fcstTime'], ', fcstValue:', data['fcstValue'])\n",
    "    elif data['category']=='PTY':\n",
    "        dangjin_fcst_df.loc[row_idx, 'PrecipitationForm'] = float(data['fcstValue'])\n",
    "        print('category:PrecipitationForm,',data['category'], 'baseTime:',data['baseTime'], ', fcstTime:', data['fcstTime'], ', fcstValue:', data['fcstValue'])            \n",
    "    elif data['category']=='POP':\n",
    "        dangjin_fcst_df.loc[row_idx, 'PrecipitationProb'] = float(data['fcstValue'])\n",
    "        print('category:PrecipitationProb,',data['category'], 'baseTime:',data['baseTime'], ', fcstTime:', data['fcstTime'], ', fcstValue:', data['fcstValue'])                       \n",
    "    elif data['category']=='R06':\n",
    "        dangjin_fcst_df.loc[row_idx, 'Precipitation'] = float(data['fcstValue'])\n",
    "        print('category:Precipitation,',data['category'], 'baseTime:',data['baseTime'], ', fcstTime:', data['fcstTime'], ', fcstValue:', data['fcstValue'])                        \n",
    "    elif data['category']=='S06':\n",
    "        dangjin_fcst_df.loc[row_idx, 'Snow'] = float(data['fcstValue'])\n",
    "        print('category:Snow,',data['category'], 'baseTime:',data['baseTime'], ', fcstTime:', data['fcstTime'], ', fcstValue:', data['fcstValue'])                                              \n",
    "    elif data['category']=='VEC':\n",
    "        dangjin_fcst_df.loc[row_idx, 'WindDirection'] = float(data['fcstValue'])\n",
    "        print('category:WindDirection,',data['category'], 'baseTime:',data['baseTime'], ', fcstTime:', data['fcstTime'], ', fcstValue:', data['fcstValue'])\n",
    "    elif data['category']=='WSD':\n",
    "        dangjin_fcst_df.loc[row_idx, 'WindSpeed'] = float(data['fcstValue'])\n",
    "        print('category:WindSpeed,',data['category'], 'baseTime:',data['baseTime'], ', fcstTime:', data['fcstTime'], ', fcstValue:', data['fcstValue'], '\\n')\n",
    "        row_idx+=3"
   ]
  },
  {
   "cell_type": "markdown",
   "metadata": {},
   "source": [
    "00시를 제외한 23시 예보 데이터를 추출하여 덮어쓰기 합니다. <br>\n",
    "00시 데이터는 위의 20시의 예보 데이터를 사용합니다. <br>"
   ]
  },
  {
   "cell_type": "code",
   "execution_count": null,
   "metadata": {},
   "outputs": [],
   "source": [
    "dangjin_fcst_df"
   ]
  },
  {
   "cell_type": "code",
   "execution_count": null,
   "metadata": {},
   "outputs": [],
   "source": [
    "dangjin_fcst_df = dangjin_fcst_df.interpolate()\n",
    "dangjin_fcst = dangjin_fcst_df.iloc[:24]"
   ]
  },
  {
   "cell_type": "code",
   "execution_count": null,
   "metadata": {},
   "outputs": [],
   "source": [
    "def make_locdate(x):\n",
    "    Ymd, HMS = x.split(' ')\n",
    "    Y, M, D = Ymd.split('-')\n",
    "    return Y+M+D\n",
    "\n",
    "dangjin_fcst['locdate'] = dangjin_fcst['Forecast_time'].apply(lambda x:make_locdate(x))"
   ]
  },
  {
   "cell_type": "code",
   "execution_count": null,
   "metadata": {},
   "outputs": [],
   "source": [
    "site_info = pd.read_csv('./data/site_info.csv')\n",
    "longi = site_info[(site_info['Id']=='당진태양광')]['Longitude'].values[0]\n",
    "lati = site_info[(site_info['Id']=='당진태양광')]['Latitude'].values[0]\n",
    "locdate = dangjin_fcst.loc[0,'locdate']\n",
    "\n",
    "url = 'http://apis.data.go.kr/B090041/openapi/service/RiseSetInfoService/getLCRiseSetInfo?longitude='+str(longi)+'&latitude='+str(lati)+'&locdate='+str(locdate)+'&dnYn=Y&ServiceKey=API 키 값을 넣어주세요'\n",
    "requestd = Request(url)\n",
    "requestd.get_method = lambda: 'GET'\n",
    "response_body = urlopen(requestd).read()\n",
    "resp = xmltodict.parse(response_body)\n",
    "resp_dic = json.loads(json.dumps(resp))\n",
    "dangjin_fcst.loc[0, 'sunrise'] = resp_dic['response']['body']['items']['item']['sunrise']\n",
    "dangjin_fcst.loc[0, 'sunset'] = resp_dic['response']['body']['items']['item']['sunset']\n",
    "dangjin_fcst['sunrise'] = dangjin_fcst['sunrise'].fillna(method='ffill')\n",
    "dangjin_fcst['sunset'] = dangjin_fcst['sunset'].fillna(method='ffill')\n",
    "dangjin_fcst['sunrise'] = dangjin_fcst['sunrise'].astype(int)//100\n",
    "dangjin_fcst['sunset'] = dangjin_fcst['sunset'].astype(int)//100"
   ]
  },
  {
   "cell_type": "code",
   "execution_count": null,
   "metadata": {},
   "outputs": [],
   "source": [
    "dangjin_fcst = dangjin_fcst[['Forecast_time', 'Temperature', 'PrecipitationForm', 'PrecipitationProb', 'Humidity', 'WindSpeed', 'WindDirection', 'Cloud','Precipitation','Snow', 'sunrise', 'sunset']]\n",
    "dangjin_fcst"
   ]
  },
  {
   "cell_type": "markdown",
   "metadata": {},
   "source": [
    "## 울산 내일 기상 예보 받아오기(울산 남구 선암동 기준, x=102, y=83)"
   ]
  },
  {
   "cell_type": "code",
   "execution_count": null,
   "metadata": {},
   "outputs": [],
   "source": [
    "url = 'http://apis.data.go.kr/1360000/VilageFcstInfoService/getVilageFcst?serviceKey=API 키 값을 넣어주세요&numOfRows=113&base_date='+str(today)+'&base_time=2000&nx=102&ny=83'\n",
    "\n",
    "requestd = Request(url)\n",
    "requestd.get_method = lambda: 'GET'\n",
    "response_body = urlopen(requestd).read()\n",
    "resp = xmltodict.parse(response_body)\n",
    "response20 = json.loads(json.dumps(resp))"
   ]
  },
  {
   "cell_type": "code",
   "execution_count": null,
   "metadata": {},
   "outputs": [],
   "source": [
    "ulsan_fcst_df = pd.DataFrame()\n",
    "\n",
    "date = date.today() + timedelta(1)\n",
    "ulsan_fcst_df['Forecast_time'] = [f'{date} {hour}:00' for hour in range(24)]\n",
    "row_idx = 0 #20시 예보 데이터를 삽입하기 위한 초기위치 변수 입니다.\n",
    "\n",
    "for i, data in enumerate(response20['response']['body']['items']['item']):\n",
    "    if data['category']=='REH':\n",
    "        ulsan_fcst_df.loc[row_idx, 'Humidity'] = float(data['fcstValue'])\n",
    "        print('category:Humidity,',data['category'], 'baseTime:',data['baseTime'], ', fcstTime:', data['fcstTime'], ', fcstValue:', data['fcstValue'])\n",
    "    elif data['category']=='T3H':\n",
    "        ulsan_fcst_df.loc[row_idx, 'Temperature'] = float(data['fcstValue'])\n",
    "        print('category:Temperature,',data['category'], 'baseTime:',data['baseTime'], ', fcstTime:', data['fcstTime'], ', fcstValue:', data['fcstValue'])\n",
    "    elif data['category']=='SKY':\n",
    "        ulsan_fcst_df.loc[row_idx, 'Cloud'] = float(data['fcstValue'])\n",
    "        print('category:Cloud,',data['category'], 'baseTime:',data['baseTime'], ', fcstTime:', data['fcstTime'], ', fcstValue:', data['fcstValue'])\n",
    "    elif data['category']=='PTY':\n",
    "        ulsan_fcst_df.loc[row_idx, 'PrecipitationForm'] = float(data['fcstValue'])\n",
    "        print('category:PrecipitationForm,',data['category'], 'baseTime:',data['baseTime'], ', fcstTime:', data['fcstTime'], ', fcstValue:', data['fcstValue'])            \n",
    "    elif data['category']=='POP':\n",
    "        ulsan_fcst_df.loc[row_idx, 'PrecipitationProb'] = float(data['fcstValue'])\n",
    "        print('category:PrecipitationProb,',data['category'], 'baseTime:',data['baseTime'], ', fcstTime:', data['fcstTime'], ', fcstValue:', data['fcstValue'])                       \n",
    "    elif data['category']=='R06':\n",
    "        ulsan_fcst_df.loc[row_idx, 'Precipitation'] = float(data['fcstValue'])\n",
    "        print('category:Precipitation,',data['category'], 'baseTime:',data['baseTime'], ', fcstTime:', data['fcstTime'], ', fcstValue:', data['fcstValue'])                        \n",
    "    elif data['category']=='S06':\n",
    "        ulsan_fcst_df.loc[row_idx, 'Snow'] = float(data['fcstValue'])\n",
    "        print('category:Snow,',data['category'], 'baseTime:',data['baseTime'], ', fcstTime:', data['fcstTime'], ', fcstValue:', data['fcstValue'])                                              \n",
    "    elif data['category']=='VEC':\n",
    "        ulsan_fcst_df.loc[row_idx, 'WindDirection'] = float(data['fcstValue'])\n",
    "        print('category:WindDirection,',data['category'], 'baseTime:',data['baseTime'], ', fcstTime:', data['fcstTime'], ', fcstValue:', data['fcstValue'])\n",
    "    elif data['category']=='WSD':\n",
    "        ulsan_fcst_df.loc[row_idx, 'WindSpeed'] = float(data['fcstValue'])\n",
    "        print('category:WindSpeed,',data['category'], 'baseTime:',data['baseTime'], ', fcstTime:', data['fcstTime'], ', fcstValue:', data['fcstValue'], '\\n')\n",
    "        row_idx+=3"
   ]
  },
  {
   "cell_type": "markdown",
   "metadata": {},
   "source": [
    "3시간 간격으로 20시의 예보 데이터를 추출합니다."
   ]
  },
  {
   "cell_type": "code",
   "execution_count": null,
   "metadata": {},
   "outputs": [],
   "source": [
    "url = 'http://apis.data.go.kr/1360000/VilageFcstInfoService/getVilageFcst?serviceKey=API 키 값을 넣어주세요&numOfRows=113&base_date='+str(today)+'&base_time=2300&nx=102&ny=83'\n",
    "\n",
    "requestd = Request(url)\n",
    "requestd.get_method = lambda: 'GET'\n",
    "response_body = urlopen(requestd).read()\n",
    "resp = xmltodict.parse(response_body)\n",
    "response23 = json.loads(json.dumps(resp))"
   ]
  },
  {
   "cell_type": "code",
   "execution_count": null,
   "metadata": {},
   "outputs": [],
   "source": [
    "row_idx = 3 #00시를 제외한 23시 예보 데이터를 덮어쓰기하기 위한 초기위치 변수 입니다.\n",
    "\n",
    "for i, data in enumerate(response23['response']['body']['items']['item']):\n",
    "    if data['category']=='REH':\n",
    "        ulsan_fcst_df.loc[row_idx, 'Humidity'] = float(data['fcstValue'])\n",
    "        print('category:Humidity,',data['category'], 'baseTime:',data['baseTime'], ', fcstTime:', data['fcstTime'], ', fcstValue:', data['fcstValue'])\n",
    "    elif data['category']=='T3H':\n",
    "        ulsan_fcst_df.loc[row_idx, 'Temperature'] = float(data['fcstValue'])\n",
    "        print('category:Temperature,',data['category'], 'baseTime:',data['baseTime'], ', fcstTime:', data['fcstTime'], ', fcstValue:', data['fcstValue'])\n",
    "    elif data['category']=='SKY':\n",
    "        ulsan_fcst_df.loc[row_idx, 'Cloud'] = float(data['fcstValue'])\n",
    "        print('category:Cloud,',data['category'], 'baseTime:',data['baseTime'], ', fcstTime:', data['fcstTime'], ', fcstValue:', data['fcstValue'])\n",
    "    elif data['category']=='PTY':\n",
    "        ulsan_fcst_df.loc[row_idx, 'PrecipitationForm'] = float(data['fcstValue'])\n",
    "        print('category:PrecipitationForm,',data['category'], 'baseTime:',data['baseTime'], ', fcstTime:', data['fcstTime'], ', fcstValue:', data['fcstValue'])            \n",
    "    elif data['category']=='POP':\n",
    "        ulsan_fcst_df.loc[row_idx, 'PrecipitationProb'] = float(data['fcstValue'])\n",
    "        print('category:PrecipitationProb,',data['category'], 'baseTime:',data['baseTime'], ', fcstTime:', data['fcstTime'], ', fcstValue:', data['fcstValue'])                       \n",
    "    elif data['category']=='R06':\n",
    "        ulsan_fcst_df.loc[row_idx, 'Precipitation'] = float(data['fcstValue'])\n",
    "        print('category:Precipitation,',data['category'], 'baseTime:',data['baseTime'], ', fcstTime:', data['fcstTime'], ', fcstValue:', data['fcstValue'])                        \n",
    "    elif data['category']=='S06':\n",
    "        ulsan_fcst_df.loc[row_idx, 'Snow'] = float(data['fcstValue'])\n",
    "        print('category:Snow,',data['category'], 'baseTime:',data['baseTime'], ', fcstTime:', data['fcstTime'], ', fcstValue:', data['fcstValue'])                                              \n",
    "    elif data['category']=='VEC':\n",
    "        ulsan_fcst_df.loc[row_idx, 'WindDirection'] = float(data['fcstValue'])\n",
    "        print('category:WindDirection,',data['category'], 'baseTime:',data['baseTime'], ', fcstTime:', data['fcstTime'], ', fcstValue:', data['fcstValue'])\n",
    "    elif data['category']=='WSD':\n",
    "        ulsan_fcst_df.loc[row_idx, 'WindSpeed'] = float(data['fcstValue'])\n",
    "        print('category:WindSpeed,',data['category'], 'baseTime:',data['baseTime'], ', fcstTime:', data['fcstTime'], ', fcstValue:', data['fcstValue'], '\\n')\n",
    "        row_idx+=3"
   ]
  },
  {
   "cell_type": "markdown",
   "metadata": {},
   "source": [
    "00시를 제외한 23시 예보 데이터를 추출하여 덮어쓰기 합니다. <br>\n",
    "00시 데이터는 위의 20시의 예보 데이터를 사용합니다. <br>"
   ]
  },
  {
   "cell_type": "code",
   "execution_count": null,
   "metadata": {},
   "outputs": [],
   "source": [
    "ulsan_fcst_df = ulsan_fcst_df.interpolate()\n",
    "ulsan_fcst = ulsan_fcst_df.iloc[:24]\n",
    "ulsan_fcst['locdate'] = ulsan_fcst['Forecast_time'].apply(lambda x:make_locdate(x))"
   ]
  },
  {
   "cell_type": "code",
   "execution_count": null,
   "metadata": {},
   "outputs": [],
   "source": [
    "longi = site_info[(site_info['Id']=='울산태양광')]['Longitude'].values[0]\n",
    "lati = site_info[(site_info['Id']=='울산태양광')]['Latitude'].values[0]\n",
    "locdate = ulsan_fcst.loc[0,'locdate']\n",
    "\n",
    "url = 'http://apis.data.go.kr/B090041/openapi/service/RiseSetInfoService/getLCRiseSetInfo?longitude='+str(longi)+'&latitude='+str(lati)+'&locdate='+str(locdate)+'&dnYn=Y&ServiceKey=API 키 값을 넣어주세요'\n",
    "requestd = Request(url)\n",
    "requestd.get_method = lambda: 'GET'\n",
    "response_body = urlopen(requestd).read()\n",
    "resp = xmltodict.parse(response_body)\n",
    "resp_dic = json.loads(json.dumps(resp))\n",
    "ulsan_fcst.loc[0, 'sunrise'] = resp_dic['response']['body']['items']['item']['sunrise']\n",
    "ulsan_fcst.loc[0, 'sunset'] = resp_dic['response']['body']['items']['item']['sunset']\n",
    "ulsan_fcst['sunrise'] = ulsan_fcst['sunrise'].fillna(method='ffill')\n",
    "ulsan_fcst['sunset'] = ulsan_fcst['sunset'].fillna(method='ffill')\n",
    "ulsan_fcst['sunrise'] = ulsan_fcst['sunrise'].astype(int)//100\n",
    "ulsan_fcst['sunset'] = ulsan_fcst['sunset'].astype(int)//100"
   ]
  },
  {
   "cell_type": "code",
   "execution_count": null,
   "metadata": {},
   "outputs": [],
   "source": [
    "ulsan_fcst = ulsan_fcst[['Forecast_time', 'Temperature', 'PrecipitationForm', 'PrecipitationProb', 'Humidity', 'WindSpeed', 'WindDirection', 'Cloud','Precipitation','Snow', 'sunrise', 'sunset']]\n",
    "ulsan_fcst"
   ]
  },
  {
   "cell_type": "markdown",
   "metadata": {},
   "source": [
    "## preprocessing"
   ]
  },
  {
   "cell_type": "code",
   "execution_count": null,
   "metadata": {},
   "outputs": [],
   "source": [
    "dangjin_sample = pd.read_csv('./new_data/dangjin_fcst_h2320.csv')\n",
    "ulsan_sample = pd.read_csv('./new_data/ulsan_fcst_h2320.csv')\n",
    "dangjin_all = pd.concat([dangjin_fcst,dangjin_sample], ignore_index=True)\n",
    "ulsan_all = pd.concat([ulsan_fcst,ulsan_sample], ignore_index=True)"
   ]
  },
  {
   "cell_type": "code",
   "execution_count": null,
   "metadata": {},
   "outputs": [],
   "source": [
    "def get_dircat(x):\n",
    "    if x < 90:\n",
    "        return 1\n",
    "    elif (x >= 90)&(x < 180):\n",
    "        return 2\n",
    "    elif (x >= 180)&(x < 270):\n",
    "        return 3\n",
    "    else:\n",
    "        return 4\n",
    "    \n",
    "def test_datast(test_df):\n",
    "        \n",
    "    test_df['Forecast_time2'] = pd.to_datetime(test_df['Forecast_time'])\n",
    "    test_df['hour'] = test_df['Forecast_time2'].dt.hour\n",
    "    test_df['year'] = test_df['Forecast_time2'].dt.year\n",
    "    test_df['month'] = test_df['Forecast_time2'].dt.month\n",
    "    test_df['day'] = test_df['Forecast_time2'].dt.day\n",
    "    test_df['day_name'] = test_df['Forecast_time2'].dt.day_name()\n",
    "    test_df['WindDirection'] = test_df['WindDirection'].apply(get_dircat)\n",
    "    test_df['PP'] = test_df['PrecipitationProb']*test_df['PrecipitationForm']\n",
    "    test_df['WW'] = test_df['WindSpeed']*test_df['WindDirection']\n",
    "    test_df['HT'] = test_df['Humidity']*test_df['Temperature']\n",
    "    \n",
    "    test_df = test_df[['month', 'day', 'day_name', 'hour', 'Temperature', 'Humidity', 'WindSpeed', 'WindDirection', 'Cloud'\n",
    "                      ,'PP','WW', 'HT']]\n",
    "    test_df = pd.get_dummies(test_df, columns = ['hour', 'WindDirection', 'day_name'])                  \n",
    "    \n",
    "    return test_df\n",
    "\n",
    "dangjin_test = test_datast(dangjin_all)\n",
    "ulsan_test = test_datast(ulsan_all)\n",
    "dangjin_test = dangjin_test.iloc[:24]\n",
    "ulsan_test = ulsan_test.iloc[:24]"
   ]
  },
  {
   "cell_type": "markdown",
   "metadata": {},
   "source": [
    "##### <span style=\"color:blue\">* 위 코드의 하위 4줄에 대한 설명입니다. </span>\n",
    "\n",
    "\n",
    "학습 데이터에는 존재했으나 추론 데이터가 존재하지 않는 값이 있을 때 <br>\n",
    "get_dummies함수를 이용하여 one-hot encoding을 진행하면, <br>\n",
    "학습 데이터와 추론 데이터의 특성 수가 달라진다. <br>\n",
    "다른 입력 수로 인한 추론 실패를 방지하기 위하여 <br>\n",
    "넓은 범위의 값이 존재하는 데이터 프레임에 concat을 하여 one-hot encoding을 진행한 뒤, <br>\n",
    "추론에 필요한 행(ex. dangjin_test.iloc[:24])을 잘라내는 과정을 추가하였다. "
   ]
  },
  {
   "cell_type": "markdown",
   "metadata": {},
   "source": [
    "## predict"
   ]
  },
  {
   "cell_type": "markdown",
   "metadata": {},
   "source": [
    "##### <span style=\"color:blue\">* 개별 선별 작업을 거친 모델을 사용했습니다. </span>\n",
    "\n",
    "DNN은 그 특성상 매번 모델의 성능이 달라집니다. <br>\n",
    "public 평가 시 최고점수인 모델 세트 내의 개별 모델(4개)이 반드시 가장 좋은 모델임을 보장할 수 없기에 <br>\n",
    "저희는 public 평가 점수 상위 5개의 모델 세트를 가지고 조합을 통해 <br> \n",
    "개별적으로 가장 뛰어난 모델을 선별하였습니다.  <br>\n",
    "/best 디렉토리의 모델 세트는 그러한 선별을 거쳐  <br> \n",
    "private 평가에 사용하기 위한 최선의 모델을 선정한 결과입니다. <br>\n",
    "따라서 저희는 /best의 모델 세트로 프라이빗 평가를 진행하였습니다."
   ]
  },
  {
   "cell_type": "code",
   "execution_count": null,
   "metadata": {},
   "outputs": [],
   "source": [
    "dangjin_floating_model = load_model('./best/dangjin_floating_model.h5')\n",
    "dangjin_warehouse_model = load_model('./best/dangjin_warehouse_model.h5')\n",
    "dangjin_model = load_model('./best/dangjin_model.h5')\n",
    "ulsan_model = load_model('./best/ulsan_model.h5')"
   ]
  },
  {
   "cell_type": "code",
   "execution_count": null,
   "metadata": {},
   "outputs": [],
   "source": [
    "dangjin_floating_pred = dangjin_floating_model.predict(dangjin_test)\n",
    "dangjin_warehouse_pred = dangjin_warehouse_model.predict(dangjin_test)\n",
    "dangjin_pred = dangjin_model.predict(dangjin_test)\n",
    "ulsan_pred = ulsan_model.predict(ulsan_test)\n",
    "plt.figure(figsize=(20,5))\n",
    "plt.plot(dangjin_floating_pred, label = 'dangjin_floating_pred')\n",
    "plt.plot(dangjin_warehouse_pred, label = 'dangjin_warehouse_pred')\n",
    "plt.plot(dangjin_pred, label = 'dangjin_pred')\n",
    "plt.plot(ulsan_pred, label = 'ulsan_pred')\n",
    "plt.legend()\n",
    "plt.show()"
   ]
  },
  {
   "cell_type": "code",
   "execution_count": null,
   "metadata": {},
   "outputs": [],
   "source": [
    "if date.month == 6 :\n",
    "    offset = 8\n",
    "    day_idx = date.day - offset\n",
    "    print('month :', date.month, 'index : ', day_idx)\n",
    "elif date.month == 7 :\n",
    "    offset = 22\n",
    "    day_idx = offset + date.day\n",
    "    print('month :', date.month, 'index : ', day_idx)\n",
    "else :\n",
    "    print('date error !!!!!')"
   ]
  },
  {
   "cell_type": "markdown",
   "metadata": {},
   "source": [
    "##### <span style=\"color:blue\">* 위 코드는 대회 기간동안 사용하기 위해 작성한 코드입니다. </span>\n",
    "\n",
    "sample_submission 파일의 날짜를 맞추기 위해 <br>\n",
    "올바른 인덱스를 얻는 코드입니다. <br>"
   ]
  },
  {
   "cell_type": "code",
   "execution_count": null,
   "metadata": {},
   "outputs": [],
   "source": [
    "submission = pd.read_csv('./data/sample_submission.csv')\n",
    "submission[648+(24*day_idx):672+(24*day_idx)]"
   ]
  },
  {
   "cell_type": "code",
   "execution_count": null,
   "metadata": {},
   "outputs": [],
   "source": [
    "submission.iloc[648+(24*day_idx):672+(24*day_idx), 1] = dangjin_floating_pred\n",
    "submission.iloc[648+(24*day_idx):672+(24*day_idx), 2] = dangjin_warehouse_pred\n",
    "submission.iloc[648+(24*day_idx):672+(24*day_idx), 3] = dangjin_pred\n",
    "submission.iloc[648+(24*day_idx):672+(24*day_idx), 4] = ulsan_pred\n",
    "submission[648+(24*day_idx):672+(24*day_idx)]"
   ]
  },
  {
   "cell_type": "code",
   "execution_count": null,
   "metadata": {},
   "outputs": [],
   "source": [
    "submission"
   ]
  },
  {
   "cell_type": "code",
   "execution_count": null,
   "metadata": {},
   "outputs": [],
   "source": [
    "submission.to_csv(f'./submit/private/private_eval_best_h2320_{date}.csv', index=False)"
   ]
  }
 ],
 "metadata": {
  "kernelspec": {
   "display_name": "Python 3",
   "language": "python",
   "name": "python3"
  },
  "language_info": {
   "codemirror_mode": {
    "name": "ipython",
    "version": 3
   },
   "file_extension": ".py",
   "mimetype": "text/x-python",
   "name": "python",
   "nbconvert_exporter": "python",
   "pygments_lexer": "ipython3",
   "version": "3.8.8"
  }
 },
 "nbformat": 4,
 "nbformat_minor": 4
}
